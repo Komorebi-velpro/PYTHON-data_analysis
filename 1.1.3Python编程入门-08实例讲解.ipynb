{
 "cells": [
  {
   "cell_type": "markdown",
   "metadata": {},
   "source": [
    "# 实例项目 - 斐波纳契数列\n",
    "\n"
   ]
  },
  {
   "cell_type": "code",
   "execution_count": 1,
   "metadata": {},
   "outputs": [
    {
     "name": "stdout",
     "output_type": "stream",
     "text": [
      "1 、 1、2、3、5、8、13、21、34、55、89、144、233、377、610、987、1597、2584、4181"
     ]
    }
   ],
   "source": [
    "# codes\n",
    "f1 = 1\n",
    "f2 = 1\n",
    "limit = 5000\n",
    "\n",
    "print(f1,\"、\",f2,end=\"、\")\n",
    "\n",
    "while (f1 + f2) < limit:     #定义循环值小于的条件\n",
    "    tmp = f1 + f2            \n",
    "    if tmp + f2 > 5000:      #如果下个值大于limit限制，则输出当前值，且不再输出“、”，因为为序列最后一个值\n",
    "        print(tmp, end=\"\")\n",
    "    else:\n",
    "        print(tmp, end=\"、\") #输出当前两数之和的值，且输出“、”\n",
    "    f1 = f2\n",
    "    f2 = tmp"
   ]
  },
  {
   "cell_type": "markdown",
   "metadata": {},
   "source": [
    "# 实例项目 - 判断闰年\n"
   ]
  },
  {
   "cell_type": "code",
   "execution_count": 12,
   "metadata": {},
   "outputs": [
    {
     "name": "stdout",
     "output_type": "stream",
     "text": [
      "请您输入一个数字，代表年份:2000\n",
      "世纪闰年\n"
     ]
    }
   ],
   "source": [
    "# codes\n",
    "\n",
    "year = int(input(\"请您输入一个数字，代表年份:\"))\n",
    "if (year % 4) == 0 and (year % 100) != 0:   #如果年份能被4整除且不能被100整除\n",
    "    print ('普通闰年')\n",
    "elif (year % 400) == 0:                     #如果年份能被100整除\n",
    "    print ('世纪闰年')\n",
    "else:\n",
    "    print(\"不是闰年\")                        #其余情况为不是闰年"
   ]
  },
  {
   "cell_type": "markdown",
   "metadata": {},
   "source": [
    "# 实例项目 - 输出指定范围内的素数\n",
    "\n"
   ]
  },
  {
   "cell_type": "code",
   "execution_count": 13,
   "metadata": {},
   "outputs": [
    {
     "name": "stdout",
     "output_type": "stream",
     "text": [
      "请输入范围最小值:100\n",
      "清输入范围最大值:200\n",
      "101\n",
      "103\n",
      "107\n",
      "109\n",
      "113\n",
      "127\n",
      "131\n",
      "137\n",
      "139\n",
      "149\n",
      "151\n",
      "157\n",
      "163\n",
      "167\n",
      "173\n",
      "179\n",
      "181\n",
      "191\n",
      "193\n",
      "197\n",
      "199\n"
     ]
    }
   ],
   "source": [
    "# codes\n",
    "lower = int(input(\"请输入范围最小值:\"))     #用户输入\n",
    "upper = int(input(\"清输入范围最大值:\"))\n",
    "\n",
    "for num in range(lower, upper + 1):      #在最小值和最大值之间遍历\n",
    "    if num > 1:\n",
    "        for i in range(2, num):          #对选取的值进行遍历   \n",
    "            if (num % i) == 0:           #如果改值可以整除除1和它本身的值，结束循环，该值不是素数\n",
    "                break\n",
    "        else:\n",
    "            print(num)"
   ]
  },
  {
   "cell_type": "markdown",
   "metadata": {},
   "source": [
    "# 实例项目 - 统计男女人数\n",
    "\n"
   ]
  },
  {
   "cell_type": "code",
   "execution_count": 18,
   "metadata": {},
   "outputs": [
    {
     "name": "stdout",
     "output_type": "stream",
     "text": [
      "500\n",
      "文件中的男性用户数： 240 个\n",
      "文件中的女性用户数： 260 个\n"
     ]
    }
   ],
   "source": [
    "# codes \n",
    "\n",
    "male_count = 0\n",
    "female_count = 0\n",
    "\n",
    "f = open(\"user_data\", \"r\")  # 以只读方式打开文件。\n",
    "lines = f.readlines()# 读取文件全部数据\n",
    "print(len(lines))\n",
    "for line in lines:   #遍历数据\n",
    "    gender = line.split('\\t')[1]\n",
    "    if gender == 'male':             #判断是不是male\n",
    "        male_count += 1              #数量加一\n",
    "    elif gender == 'female':         #判断是不是female\n",
    "        female_count += 1            #数量加一\n",
    "print ('文件中的男性用户数：',male_count,\"个\")\n",
    "print ('文件中的女性用户数：',female_count,\"个\")\n"
   ]
  },
  {
   "cell_type": "markdown",
   "metadata": {},
   "source": [
    "# 实例项目 - 计算存款额的最大值、最小值、平均值\n",
    "\n"
   ]
  },
  {
   "cell_type": "code",
   "execution_count": 22,
   "metadata": {},
   "outputs": [
    {
     "name": "stdout",
     "output_type": "stream",
     "text": [
      "500\n",
      "存款额的最大值： 399916\n",
      "存款额的最小值： 3044\n",
      "存款额的平均值： 208120.248\n"
     ]
    }
   ],
   "source": [
    "# codes\n",
    "\n",
    "# 定义一个求平均值的函数\n",
    "def averagenum(num):\n",
    "    nsum = 0\n",
    "    for i in range(len(num)):\n",
    "        nsum += num[i]\n",
    "    return nsum / len(num)\n",
    "\n",
    "deposits = []\n",
    "f = open(\"user_data\", \"r\")  # 以只读方式打开文件。\n",
    "lines = f.readlines()# 读取文件全部数据\n",
    "print(len(lines))\n",
    "for line in lines:\n",
    "    deposits.append(int(line.split('\\t')[3]))\n",
    "    \n",
    "print ('存款额的最大值：',max(deposits))     #求最大值\n",
    "print ('存款额的最小值：',min(deposits))     #求最小值\n",
    "print ('存款额的平均值：',averagenum(deposits))"
   ]
  },
  {
   "cell_type": "markdown",
   "metadata": {},
   "source": [
    "# 实例项目 - 查询人员信息\n"
   ]
  },
  {
   "cell_type": "code",
   "execution_count": 30,
   "metadata": {},
   "outputs": [
    {
     "name": "stdout",
     "output_type": "stream",
     "text": [
      "500\n",
      "请输入用户ID:1000000\n",
      "您输入的用户ID不存在，请检查\n"
     ]
    }
   ],
   "source": [
    "user_dict={}\n",
    "f = open(\"user_data\", \"r\")  # 以只读方式打开文件。\n",
    "lines = f.readlines()# 读取文件全部数据\n",
    "for line in lines:\n",
    "    user_dict[int(line.split('\\t')[0])] = line\n",
    "print(len(user_dict))\n",
    "\n",
    "user_id = int(input(\"请输入用户ID:\"))\n",
    "if user_id in user_dict.keys():        #遍历字典的键值\n",
    "    user_info = user_dict[user_id]     #根据user_id获取用户信息\n",
    "    fields = user_info.split('\\t')     #将用户信息按照'\\t'分割开来\n",
    "    print(\"用户ID:{0},性别:{1},创建时间:{2},存款额:{3}\".format(fields[0], fields[1],fields[2],fields[3]))\n",
    "else:\n",
    "    print('您输入的用户ID不存在，请检查')\n"
   ]
  }
 ],
 "metadata": {
  "kernelspec": {
   "display_name": "Python 3 (ipykernel)",
   "language": "python",
   "name": "python3"
  },
  "language_info": {
   "codemirror_mode": {
    "name": "ipython",
    "version": 3
   },
   "file_extension": ".py",
   "mimetype": "text/x-python",
   "name": "python",
   "nbconvert_exporter": "python",
   "pygments_lexer": "ipython3",
   "version": "3.10.9"
  }
 },
 "nbformat": 4,
 "nbformat_minor": 2
}
