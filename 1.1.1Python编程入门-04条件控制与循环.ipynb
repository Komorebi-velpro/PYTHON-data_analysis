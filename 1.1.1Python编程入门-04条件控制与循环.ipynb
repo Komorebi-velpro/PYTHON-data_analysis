{
 "cells": [
  {
   "cell_type": "markdown",
   "metadata": {},
   "source": [
    "# 条件控制\n",
    "\n"
   ]
  },
  {
   "cell_type": "code",
   "execution_count": 2,
   "metadata": {},
   "outputs": [
    {
     "name": "stdout",
     "output_type": "stream",
     "text": [
      "年龄还小，心智还不成熟，不可以谈恋爱\n"
     ]
    }
   ],
   "source": [
    "# 变量定义\n",
    "xiaoming_age = 16\n",
    "age_base_line = 18\n",
    "\n",
    "if xiaoming_age > age_base_line: # 之前讲过比较运算符，比较运算符的结果只有两种:True 和 False\n",
    "    print('可以谈恋爱了')\n",
    "else:\n",
    "    print('年龄还小，心智还不成熟，不可以谈恋爱')"
   ]
  },
  {
   "cell_type": "code",
   "execution_count": 5,
   "metadata": {},
   "outputs": [
    {
     "name": "stdout",
     "output_type": "stream",
     "text": [
      "请输你家的年收入总额: 200000\n",
      "困难家庭\n"
     ]
    }
   ],
   "source": [
    "# 定义我的年收入变量 annual_income\n",
    "annual_income = int(input(\"请输你家的年收入总额: \"))\n",
    "\n",
    "if annual_income > 0 and annual_income<= 100000:\n",
    "    print('特困家庭')\n",
    "elif annual_income > 100000 and annual_income <= 200000:\n",
    "    print('困难家庭')\n",
    "elif annual_income > 200000 and annual_income<= 350000:\n",
    "     print('贫困家庭')\n",
    "elif annual_income > 200000 and annual_income<= 350000:\n",
    "     print('困难家庭')\n",
    "elif annual_income > 350000 and annual_income<= 600000:\n",
    "     print('贫穷家庭')\n",
    "elif annual_income > 600000 and annual_income<= 800000:\n",
    "     print('小康家庭')\n",
    "elif annual_income > 800000 and annual_income<= 2000000:\n",
    "     print('中产家庭')\n",
    "elif annual_income > 2000000 and annual_income<= 5000000:\n",
    "     print('富裕家庭')\n",
    "else:\n",
    "     print('富人家庭')"
   ]
  },
  {
   "cell_type": "code",
   "execution_count": 6,
   "metadata": {},
   "outputs": [
    {
     "name": "stdout",
     "output_type": "stream",
     "text": [
      "请输你家的年收入总额: 1000\n",
      "感觉这个收入很难在地球上生存下去了\n"
     ]
    }
   ],
   "source": [
    "# 定义我的年收入变量 annual_income\n",
    "annual_income = int(input(\"请输你家的年收入总额: \"))\n",
    "\n",
    "# 注意第一个if之后又紧跟着一个if,这就是所谓的if嵌套\n",
    "# 嵌套最应该的注意的就是冒号和缩进，每个冒号接下来的一行都要缩进\n",
    "if annual_income<= 100000:\n",
    "    if annual_income < 5000:\n",
    "        print('感觉这个收入很难在地球上生存下去了')\n",
    "    else:\n",
    "        print('特困家庭')\n",
    "elif annual_income > 100000 and annual_income <= 200000:\n",
    "    print('困难家庭')\n",
    "elif annual_income > 200000 and annual_income<= 350000:\n",
    "     print('贫困家庭')\n",
    "elif annual_income > 200000 and annual_income<= 350000:\n",
    "     print('困难家庭')\n",
    "elif annual_income > 350000 and annual_income<= 600000:\n",
    "     print('贫穷家庭')\n",
    "elif annual_income > 600000 and annual_income<= 800000:\n",
    "     print('小康家庭')\n",
    "elif annual_income > 800000 and annual_income<= 2000000:\n",
    "     print('中产家庭')\n",
    "elif annual_income > 2000000 and annual_income<= 5000000:\n",
    "     print('富裕家庭')\n",
    "else:\n",
    "     print('富人家庭')"
   ]
  },
  {
   "cell_type": "markdown",
   "metadata": {},
   "source": [
    "# 循环\n"
   ]
  },
  {
   "cell_type": "code",
   "execution_count": 7,
   "metadata": {},
   "outputs": [
    {
     "name": "stdout",
     "output_type": "stream",
     "text": [
      "H\n",
      "e\n",
      "l\n",
      "l\n",
      "o\n",
      " \n",
      "Z\n",
      "h\n",
      "i\n",
      "W\n",
      "e\n",
      "n\n",
      "!\n"
     ]
    }
   ],
   "source": [
    "for event_letter in \"Hello ZhiWen!\":\n",
    "    print(event_letter)"
   ]
  },
  {
   "cell_type": "markdown",
   "metadata": {},
   "source": [
    "## for 循环"
   ]
  },
  {
   "cell_type": "code",
   "execution_count": 11,
   "metadata": {},
   "outputs": [
    {
     "name": "stdout",
     "output_type": "stream",
     "text": [
      "female\n",
      "female\n",
      "male\n",
      "female\n",
      "female\n",
      "208378.0\n",
      "144703\n",
      "73205\n",
      "170754\n",
      "27049\n"
     ]
    }
   ],
   "source": [
    "# 定义三个列表，分别存储了5个人id信息、性别信息、存款信息\n",
    "ids = [100000, 100001, 100002, 100003, 100004]\n",
    "genders = ['female', 'female', 'male', 'female', 'female']\n",
    "deposits = [208378.0, 144703, 73205, 170754, 27049]\n",
    "\n",
    "# 循环打印出每个人的性别\n",
    "for gender in genders:\n",
    "    print(gender)\n",
    "\n",
    "# 循环打印出每个人的收入信息\n",
    "for deposit in deposits:\n",
    "    print(deposit)"
   ]
  },
  {
   "cell_type": "markdown",
   "metadata": {},
   "source": [
    "## while 循环"
   ]
  },
  {
   "cell_type": "code",
   "execution_count": 12,
   "metadata": {},
   "outputs": [
    {
     "name": "stdout",
     "output_type": "stream",
     "text": [
      "10\n",
      "9\n",
      "8\n",
      "7\n",
      "6\n",
      "5\n",
      "4\n",
      "3\n",
      "2\n"
     ]
    }
   ],
   "source": [
    "# 定义times变量\n",
    "times = 10\n",
    "\n",
    "# while循环打印, 只有当times 大于 1 的情况下，while下面的语句才会被执行\n",
    "while times > 1:\n",
    "    print(times)\n",
    "    times = times - 1"
   ]
  },
  {
   "cell_type": "code",
   "execution_count": null,
   "metadata": {},
   "outputs": [],
   "source": [
    "while True :  # 表达式永远为 true，将会一直在循环里面\n",
    "    print(\"我是无限循环我怕谁\")"
   ]
  },
  {
   "cell_type": "code",
   "execution_count": 4,
   "metadata": {},
   "outputs": [
    {
     "name": "stdout",
     "output_type": "stream",
     "text": [
      "continue语句演示\n",
      "100000\n",
      "100001\n",
      "100002\n",
      "id == 100003\n",
      "100004\n",
      "\n",
      "break语句演示\n",
      "100000\n",
      "100001\n",
      "100002\n",
      "id == 100003\n"
     ]
    }
   ],
   "source": [
    "# 定义三个列表，分别存储了5个人id信息、性别信息、存款信息\n",
    "ids = [100000, 100001, 100002, 100003, 100004]\n",
    "genders = ['female', 'female', 'male', 'female', 'female']\n",
    "deposits = [208378.0, 144703, 73205, 170754, 27049]\n",
    "\n",
    "# continue语句演示\n",
    "print('continue语句演示')\n",
    "for id in ids: \n",
    "    if id == 100003:\n",
    "        print('id == 100003')\n",
    "        continue # 如果id的值为100003时，则跳过当次循环，不再执行接下来循环中的语句，继续下一个循环\n",
    "    print(id)\n",
    "    \n",
    "print('\\nbreak语句演示') \n",
    "# break语句演示\n",
    "for id in ids:\n",
    "    if id == 100003:\n",
    "        print('id == 100003')\n",
    "        break # 结束循环\n",
    "    print(id)"
   ]
  }
 ],
 "metadata": {
  "kernelspec": {
   "display_name": "Python 3 (ipykernel)",
   "language": "python",
   "name": "python3"
  },
  "language_info": {
   "codemirror_mode": {
    "name": "ipython",
    "version": 3
   },
   "file_extension": ".py",
   "mimetype": "text/x-python",
   "name": "python",
   "nbconvert_exporter": "python",
   "pygments_lexer": "ipython3",
   "version": "3.10.9"
  }
 },
 "nbformat": 4,
 "nbformat_minor": 2
}
